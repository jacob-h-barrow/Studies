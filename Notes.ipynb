{
 "cells": [
  {
   "cell_type": "markdown",
   "metadata": {},
   "source": [
    "# Skipped Annotated\n",
    "\n",
    "# Primitive Wrappers\n",
    "## LiteralString\n",
    "- Used for sensitive APIs\n",
    "\n",
    "## Literal\n",
    "- Specific primitive value\n",
    "- Conjunctive feature: Literal[-3, b\"foo\", MyEnum.A] are all Unions\n",
    "\n",
    "## Final\n",
    "- Will change to a Literal\n",
    "- Not context-sensitive... cant be substituted\n",
    "- Rules (Only enforced by linters (ex. mypy)) [mypy and pylance differ here]\n",
    "    1. Final names: Shouldnt be reassigned after init\n",
    "    2. Final methods: Shouldnt be overriden in a subclass\n",
    "    3. Final classes: shouldnt be subclassed\n",
    "    4. There can be at most one final declaration (without immediate init)\n",
    "    5. Final can only be used in the outermost position/type\n",
    "    6. Dont use Final and ClassVar together (mypy determines the scope automatically)\n",
    "- Two ways to define\n",
    "    - Implicit... ID: Final = 1\n",
    "    - Explicit... ID: Final[int] = 1\n",
    "\n",
    "## Intelligent Indexing\n",
    "- We can use Literal types to more precisely index into structured heterogeneous types such as tuples, NamedTuples, and TypedDicts. This feature is known as intelligent indexing.\n",
    "- For example, when we index into a tuple using some int, the inferred type is normally the union of the tuple item types. However, if we want just the type corresponding to some particular index, we can use Literal types like so:\n",
    "\n",
    "## Tagged Unions\n",
    "- However, it is not always possible or convenient to do this. For example, it is not possible to use isinstance to distinguish between two different TypedDicts since at runtime, your variable will simply be just a dict.\n",
    "- Instead, what you can do is label or tag your TypedDicts with a distinct Literal type. Then, you can discriminate between each kind of TypedDict by checking the label:"
   ]
  },
  {
   "cell_type": "code",
   "execution_count": 2,
   "metadata": {},
   "outputs": [],
   "source": [
    "from typing import *"
   ]
  },
  {
   "cell_type": "code",
   "execution_count": null,
   "metadata": {},
   "outputs": [],
   "source": [
    "def run_query(sql: LiteralString) -> None:\n",
    "    ...\n",
    "\n",
    "def caller(arbitrary_string: str, literal_string: LiteralString) -> None:\n",
    "    run_query(\"SELECT * FROM students\")  # OK\n",
    "    run_query(literal_string)  # OK\n",
    "    run_query(\"SELECT * FROM \" + literal_string)  # OK\n",
    "    run_query(arbitrary_string)  # type checker error\n",
    "    run_query(  # type checker error\n",
    "        f\"SELECT * FROM students WHERE name = {arbitrary_string}\"\n",
    "    )"
   ]
  },
  {
   "cell_type": "code",
   "execution_count": null,
   "metadata": {},
   "outputs": [],
   "source": [
    "@overload\n",
    "def fetch_data(raw: Literal[True]) -> bytes: ...\n",
    "@overload\n",
    "def fetch_data(raw: Literal[False]) -> str: ...\n",
    "\n",
    "\n",
    "reveal_type(fetch_data(True))        # Revealed type is \"bytes\"\n",
    "reveal_type(fetch_data(False))       # Revealed type is \"str\"\n",
    "####################################\n",
    "PrimaryColors = Literal[\"red\", \"blue\", \"yellow\"]\n",
    "SecondaryColors = Literal[\"purple\", \"green\", \"orange\"]\n",
    "AllowedColors = Literal[PrimaryColors, SecondaryColors]\n",
    "\n",
    "def paint(color: AllowedColors) -> None: ...\n",
    "\n",
    "paint(\"red\")        # Type checks!\n",
    "paint(\"turquoise\")  # Does not type check\n",
    "####################################\n",
    "def expects_literal(x: Literal[19]) -> None: pass\n",
    "\n",
    "c: Final = 19 # type: ignore\n",
    "d: Final[int] = 20\n",
    "\n",
    "reveal_type(c)          # Revealed type is \"Literal[19]?\"\n",
    "expects_literal(c)      # ...and this type checks!\n",
    "####################################\n",
    "# Called intelligent indexing\n",
    "# We can do the same thing with with TypedDict and str keys:\n",
    "class MyDict(TypedDict):\n",
    "    name: str\n",
    "    main_id: int\n",
    "    backup_id: int\n",
    "\n",
    "d: MyDict = {\"name\": \"Saanvi\", \"main_id\": 111, \"backup_id\": 222}\n",
    "name_key: Final = \"name\" # type: ignore\n",
    "reveal_type(d[name_key])  # Revealed type is \"str\"\n",
    "\n",
    "# You can also index using unions of literals\n",
    "id_key: Literal[\"main_id\", \"backup_id\"]\n",
    "reveal_type(d[id_key])    # Revealed type is \"int\"\n",
    "####################################\n",
    "PossibleValues = Literal['one', 'two']\n",
    "\n",
    "def validate(x: PossibleValues) -> bool:\n",
    "    match x:\n",
    "        case 'one':\n",
    "            return True\n",
    "        case 'two':\n",
    "            return False\n",
    "    assert_never(x) # Only needed for dynamic runtime checking"
   ]
  },
  {
   "cell_type": "code",
   "execution_count": null,
   "metadata": {},
   "outputs": [],
   "source": [
    "# Final overriding a RO property\n",
    "## Not recommended\n",
    "class Base:\n",
    "    @property\n",
    "    def ID(self) -> int: ...\n",
    "\n",
    "class Derived(Base):\n",
    "    ID: Final[int] = 1  # OK"
   ]
  },
  {
   "cell_type": "code",
   "execution_count": null,
   "metadata": {},
   "outputs": [],
   "source": [
    "# Final only guarantees that the name wont be shadowed, doesnt make the value immutable\n",
    "## Use immutable ABCs with Final\n",
    "x: Final = ['a', 'b']\n",
    "x.append('c')  # OK\n",
    "\n",
    "y: Final[Sequence[str]] = ['a', 'b']\n",
    "y.append('x')  # Error: Sequence is immutable\n",
    "z: Final[Tuple[str, ...]] = ('a', 'b')  # Also an option"
   ]
  },
  {
   "cell_type": "code",
   "execution_count": null,
   "metadata": {},
   "outputs": [],
   "source": [
    "\n",
    "class Base:\n",
    "    @final\n",
    "    def common_name(self) -> None:\n",
    "        ...\n",
    "\n",
    "class Derived(Base):\n",
    "    def common_name(self) -> None:  # Error: cannot override a final method\n",
    "        ...\n"
   ]
  },
  {
   "cell_type": "code",
   "execution_count": null,
   "metadata": {},
   "outputs": [],
   "source": [
    "class Base:\n",
    "    # Overloaded fxns must consist of 2+ implemented variants, and must be adjacenet in code\n",
    "    @overload\n",
    "    def method(self) -> None: ...\n",
    "    @overload\n",
    "    def method(self, arg: int) -> int: ...\n",
    "    @final\n",
    "    def method(self, x=None):\n",
    "        ...\n"
   ]
  },
  {
   "cell_type": "code",
   "execution_count": null,
   "metadata": {},
   "outputs": [],
   "source": [
    "@final\n",
    "class Leaf:\n",
    "    ...\n",
    "\n",
    "class MyLeaf(Leaf):  # Error: Leaf can't be subclassed\n",
    "    ..."
   ]
  },
  {
   "cell_type": "markdown",
   "metadata": {},
   "source": [
    "# Concatenate\n",
    "- RETURN after going through ParamSpec generics\n",
    "- https://docs.python.org/3.14/library/typing.html#module-contents"
   ]
  },
  {
   "cell_type": "code",
   "execution_count": null,
   "metadata": {},
   "outputs": [],
   "source": []
  },
  {
   "cell_type": "markdown",
   "metadata": {},
   "source": [
    "# Type Narrowing Tools\n",
    "- Used by static type checkers to determine a more precise type of an expression within a program's code flow\n",
    "1. TypeIs: annotate the return type of a user-defined predicate function\n",
    "    - Only accepts a single type arg, and returns a boolean at runtime\n",
    "    - IMPORTANT: If the return value is True, the type of its argument is the intersection of the argument’s original type and NarrowedType\n",
    "    - In the if branch (when the function returns True), the type of the argument is narrowed to the intersection of its original type and T.\n",
    "    - In the else branch (when the function returns False), the type of the argument is narrowed to the intersection of its original type and the complement of T.\n",
    "2. TypeGuard (smart alias for a bool return type)\n",
    "    - Same as TypeIs except (IMPORTANT): if the return value is True, the type of its argument is the type inside TypeGuard\n",
    "\n",
    "- When a TypeGuard function returns True, type checkers narrow the type of the variable to exactly the TypeGuard type. When a TypeIs function returns True, type checkers can infer a more precise type combining the previously known type of the variable with the TypeIs type. (Technically, this is known as an intersection type.)\n",
    "- TypeIs requires the narrowed type to be a subtype of the input type, while TypeGuard does not. "
   ]
  },
  {
   "cell_type": "code",
   "execution_count": null,
   "metadata": {},
   "outputs": [],
   "source": [
    "class Parent: pass\n",
    "class Child(Parent): pass\n",
    "@final\n",
    "class Unrelated: pass\n",
    "\n",
    "def is_parent(val: object) -> TypeIs[Parent]:\n",
    "    return isinstance(val, Parent)\n",
    "\n",
    "def run(arg: Child | Unrelated):\n",
    "    if is_parent(arg):\n",
    "        # Type of ``arg`` is narrowed to the intersection\n",
    "        # of ``Parent`` and ``Child``, which is equivalent to\n",
    "        # ``Child``.\n",
    "        assert_type(arg, Child)\n",
    "    else:\n",
    "        # Type of ``arg`` is narrowed to exclude ``Parent``,\n",
    "        # so only ``Unrelated`` is left.\n",
    "        assert_type(arg, Unrelated)"
   ]
  },
  {
   "cell_type": "code",
   "execution_count": null,
   "metadata": {},
   "outputs": [],
   "source": [
    "def is_str_list(val: list[object]) -> TypeGuard[list[str]]:\n",
    "    '''Determines whether all objects in the list are strings'''\n",
    "    return all(isinstance(x, str) for x in val)\n",
    "\n",
    "def func1(val: list[object]):\n",
    "    if is_str_list(val):\n",
    "        # Type of ``val`` is narrowed to ``list[str]``.\n",
    "        print(\" \".join(val))\n",
    "    else:\n",
    "        # Type of ``val`` remains as ``list[object]``.\n",
    "        print(\"Not a list of strings!\")"
   ]
  },
  {
   "cell_type": "code",
   "execution_count": null,
   "metadata": {},
   "outputs": [],
   "source": [
    "def is_two_element_tuple[T](val: tuple[T, ...]) -> TypeGuard[tuple[T, T]]:\n",
    "    return len(val) == 2\n",
    "\n",
    "def func(names: tuple[str, ...]):\n",
    "    if is_two_element_tuple(names):\n",
    "        reveal_type(names)  # tuple[str, str]\n",
    "    else:\n",
    "        reveal_type(names)  # tuple[str, ...]"
   ]
  },
  {
   "cell_type": "code",
   "execution_count": null,
   "metadata": {},
   "outputs": [],
   "source": [
    "def is_set_of[T](val: set[Any], type: type[T]) -> TypeGuard[set[T]]:\n",
    "    return all(isinstance(x, type) for x in val)\n",
    "\n",
    "items: set[Any]\n",
    "if is_set_of(items, str):\n",
    "    reveal_type(items)  # set[str]"
   ]
  },
  {
   "cell_type": "code",
   "execution_count": null,
   "metadata": {},
   "outputs": [],
   "source": [
    "def is_instance_of[T](val: Any, typ: type[T]) -> TypeIs[T]:\n",
    "    return isinstance(val, typ)\n",
    "\n",
    "def process(x: Any) -> None:\n",
    "    if is_instance_of(x, int):\n",
    "        reveal_type(x)  # Revealed type is 'int'\n",
    "        print(x + 1)  # ok\n",
    "    else:\n",
    "        reveal_type(x)  # Revealed type is 'Any'"
   ]
  },
  {
   "cell_type": "markdown",
   "metadata": {},
   "source": [
    "# ClassVar\n",
    "- Should not \n",
    "    1. be set on instances of that class\n",
    "    2. be used with isinstance() or issubclass()\n",
    "    3. only accept types and cant be further subscribed"
   ]
  },
  {
   "cell_type": "code",
   "execution_count": null,
   "metadata": {},
   "outputs": [],
   "source": [
    "class Starship:\n",
    "    stats: ClassVar[dict[str, int]] = {} # class variable\n",
    "    damage: int = 10                     # instance variable\n",
    "\n",
    "\n",
    "\n",
    "enterprise_d = Starship(3000)\n",
    "enterprise_d.stats = {} # Error, setting class variable on instance\n",
    "Starship.stats = {}     # This is OK"
   ]
  },
  {
   "cell_type": "markdown",
   "metadata": {},
   "source": [
    "# TypedDict\n",
    "- Doesnt allow arbitrary keys to be added/removed at runtime\n",
    "- Subtype of Mapping[str, object]\n",
    "## Special Types\n",
    "1. Required\n",
    "2. NotRequired\n",
    "3. ReadOnly\n",
    "4. Unpack: two use cases... the important one is annotating the **kwargs of a function\n",
    "\n",
    "Results\n",
    "    - Even with total=False, if a superclass has Required or total=True, there will be a linter error\n",
    "    - Superclasses with total=True can still add NotRequired items at runtime\n",
    "    - Mypy doesnt catch the ReadOnly annotations, but pyright does\n",
    "    - For pyright, a ReadOnly annotation must be initialized at creation, else it's an error during runtime (no matter if it's blank to begin with)\n",
    "    - For pyright, TypedDict attributes have not been updated to Python 3.13 yet"
   ]
  },
  {
   "cell_type": "code",
   "execution_count": null,
   "metadata": {},
   "outputs": [],
   "source": [
    "from datetime import datetime\n",
    "from typing import TypedDict, ReadOnly, NotRequired, Required, Unpack, assert_type\n",
    "\n",
    "type Date = datetime\n",
    "\n",
    "# Class-based definition\n",
    "class MovieBase(TypedDict):\n",
    "    name: ReadOnly[str]\n",
    "    year: int\n",
    "    rating: NotRequired[float]\n",
    "    blank: Required[bool]\n",
    "\n",
    "# Check if this works\n",
    "class Movie[T](MovieBase, total=False):\n",
    "    based_on: T\n",
    "    checked_out: ReadOnly[Date]\n",
    "    person_check_out_to: ReadOnly[Required[T]] # See if this works! \n",
    "\n",
    "m: Movie[str] = {\"name\": \"Jaws\", \"year\": 1981, 'person_check_out_to': 'Sussy', 'blank': False}\n",
    "\n",
    "m['rating'] = 4.2\n",
    "\n",
    "# m['name'] = 'Sharks' # Error\n",
    "\n",
    "# m['checked_out'] = datetime.now() # Error\n",
    "\n",
    "def check_movie(**kwargs: Unpack[Movie]) -> None:\n",
    "    assert_type(kwargs, Movie)\n",
    "    \n",
    "    m_required = frozenset({'person_check_out_to', 'name', 'year', 'blank'})\n",
    "    m_optional = frozenset({'based_on', 'checked_out', 'rating'})\n",
    "    m_mutable = frozenset({'based_on', 'year', 'rating', 'blank'})\n",
    "\n",
    "    got = (Movie.__required_keys__, Movie.__optional_keys__, Movie.__mutable_keys__)\n",
    "    expected = (m_required, m_optional, m_mutable)\n",
    "\n",
    "    for got_keys, expected_keys in zip(got, expected):\n",
    "        if sorted(list(got_keys)) != sorted(list(expected_keys)):\n",
    "            print(f'Wrong! {got_keys} {expected_keys}')\n",
    "            \n",
    "check_movie(**m)"
   ]
  },
  {
   "cell_type": "code",
   "execution_count": null,
   "metadata": {},
   "outputs": [],
   "source": [
    "Movie = TypedDict('Movie', {'name': str, 'year': int}, total=False)\n",
    "\n",
    "movie: Movie = {'name': 'Blade Runner', 'year': 1982}\n",
    "\n",
    "# Can also act as a CTOR\n",
    "toy_story = Movie(name='Toy Story') \n",
    "# Since total=False, if that wasnt true you'd have to add , year=1995)\n",
    "toy_story['year'] = 1995 # ok since total=False originally"
   ]
  },
  {
   "cell_type": "code",
   "execution_count": null,
   "metadata": {},
   "outputs": [],
   "source": [
    "def print_typed_dict(obj: Mapping[str, object]) -> None:\n",
    "    for key, value in obj.items():\n",
    "        print(f'{key}: {value}')\n",
    "\n",
    "print_typed_dict(Movie(name='Toy Story', year=1995))  # OK"
   ]
  },
  {
   "cell_type": "code",
   "execution_count": null,
   "metadata": {},
   "outputs": [],
   "source": [
    "from datetime import datetime\n",
    "\n",
    "type Date = datetime\n",
    "\n",
    "# Class-based definition\n",
    "class MovieBase(TypedDict):\n",
    "    name: ReadOnly[str]\n",
    "    year: int\n",
    "    rating: NotRequired[float]\n",
    "\n",
    "# Check if this works\n",
    "class Movie[T](MovieBase, total=False):\n",
    "    based_on: T\n",
    "    checked_out: ReadOnly[Date]\n",
    "    person_check_out_to: ReadOnly[Required[T]] # See if this works! \n",
    "\n",
    "# Test if the MovieBase items are required in the Movie subclass\n",
    "m: Movie[T: str] = {\"name\": \"Jaws\", \"year\": 1981, 'person_check_out_to': 'Sussy'}\n",
    "# Check if you can add rating after the fact\n",
    "m['rating'] = 4.2\n",
    "\n",
    "m['name'] = 'Sharks' # Error\n",
    "# Need to check to see if this is allowed for RO vars outside of init\n",
    "m['checked_out'] = datetime.now()\n",
    "m['checked_out'] = datetime.now() # Error\n",
    "\n",
    "m_required = frozenset({'person_check_out_to', 'name', 'year'})\n",
    "m_optional = frozenset({'based_on', 'checked_out', 'rating'})\n",
    "m_mutable = frozenset({'based_on', 'year', 'rating'})\n",
    "\n",
    "got = (m.__required_keys__, m.__optional_keys__, m.__mutable_keys__)\n",
    "expected = (m_required, m_optional, m_mutable)\n",
    "\n",
    "for got_keys, expected_keys in zip(got, expected):\n",
    "    if got_keys != expected_keys:\n",
    "        print(f'Wrong! {got_keys} {expected_keys}')\n"
   ]
  },
  {
   "cell_type": "markdown",
   "metadata": {},
   "source": [
    "# Advanced Self"
   ]
  },
  {
   "cell_type": "code",
   "execution_count": null,
   "metadata": {},
   "outputs": [],
   "source": [
    "class Tag[T]:\n",
    "    item: T\n",
    "\n",
    "    def uppercase_item(self: Tag[str]) -> str:\n",
    "        return self.item.upper()\n",
    "\n",
    "def label(ti: Tag[int], ts: Tag[str]) -> None:\n",
    "    ti.uppercase_item()  # E: Invalid self argument \"Tag[int]\" to attribute function\n",
    "                         # \"uppercase_item\" with type \"Callable[[Tag[str]], str]\"\n",
    "    ts.uppercase_item()  # This is OK"
   ]
  },
  {
   "cell_type": "code",
   "execution_count": null,
   "metadata": {},
   "outputs": [],
   "source": [
    "from collections.abc import Sequence\n",
    "\n",
    "class Storage[T]:\n",
    "    def __init__(self, content: T) -> None:\n",
    "        self._content = content\n",
    "\n",
    "    def first_chunk[S](self: Storage[Sequence[S]]) -> S:\n",
    "        return self._content[0]\n",
    "\n",
    "page: Storage[list[str]]\n",
    "page.first_chunk()  # OK, type is \"str\"\n",
    "\n",
    "Storage(0).first_chunk()  # Error: Invalid self argument \"Storage[int]\" to attribute function\n",
    "                          # \"first_chunk\" with type \"Callable[[Storage[Sequence[S]]], S]\""
   ]
  },
  {
   "cell_type": "code",
   "execution_count": null,
   "metadata": {},
   "outputs": [],
   "source": [
    "class Lockable(Protocol):\n",
    "    @property\n",
    "    def lock(self) -> Lock: ...\n",
    "\n",
    "class AtomicCloseMixin:\n",
    "    def atomic_close(self: Lockable) -> int:\n",
    "        with self.lock:\n",
    "            # perform actions\n",
    "\n",
    "class AtomicOpenMixin:\n",
    "    def atomic_open(self: Lockable) -> int:\n",
    "        with self.lock:\n",
    "            # perform actions\n",
    "\n",
    "class File(AtomicCloseMixin, AtomicOpenMixin):\n",
    "    def __init__(self) -> None:\n",
    "        self.lock = Lock()\n",
    "\n",
    "class Bad(AtomicCloseMixin):\n",
    "    pass\n",
    "\n",
    "f = File()\n",
    "b: Bad\n",
    "f.atomic_close()  # OK\n",
    "b.atomic_close()  # Error: Invalid self type for \"atomic_close\""
   ]
  },
  {
   "cell_type": "markdown",
   "metadata": {},
   "source": [
    "# ParamSpec\n",
    "- Parameter specification variable. A specialized version of type variables\n",
    "- Used to forward the parameter types of one callable to another callable\n",
    "- Only valid with\n",
    "    1. Concatenate\n",
    "    2. As the first arg to a Callable\n",
    "    3. As parameters for user-defined Generics\n",
    "- ParamSpec captures both positional and keyword parameters\n",
    "    - P.args (instance of ParamSpecArgs)\n",
    "    - P.kwargs (instance of ParamSpecKwargs)"
   ]
  },
  {
   "cell_type": "code",
   "execution_count": null,
   "metadata": {},
   "outputs": [],
   "source": [
    "from collections.abc import Callable\n",
    "import logging\n",
    "\n",
    "def add_logging[T, **P](f: Callable[P, T]) -> Callable[P, T]:\n",
    "    '''A type-safe decorator to add logging to a function.'''\n",
    "    def inner(*args: P.args, **kwargs: P.kwargs) -> T:\n",
    "        logging.info(f'{f.__name__} was called')\n",
    "        return f(*args, **kwargs)\n",
    "    return inner\n",
    "\n",
    "@add_logging\n",
    "def add_two(x: float, y: float) -> float:\n",
    "    '''Add two numbers together.'''\n",
    "    return x + y"
   ]
  },
  {
   "cell_type": "code",
   "execution_count": null,
   "metadata": {},
   "outputs": [],
   "source": [
    "type IntFunc[**P] = Callable[P, int]"
   ]
  },
  {
   "cell_type": "code",
   "execution_count": null,
   "metadata": {},
   "outputs": [],
   "source": [
    "cb3: Callable[Concatenate[int, ...], str]\n",
    "cb3 = lambda x: str(x)  # OK\n",
    "cb3 = lambda a, b, c: str(a)  # OK\n",
    "cb3 = lambda : \"\"  # Error\n",
    "cb3 = lambda *, a: str(a)  # Error"
   ]
  },
  {
   "cell_type": "code",
   "execution_count": null,
   "metadata": {},
   "outputs": [],
   "source": [
    "type Callback[**P] = Callable[P, str]\n",
    "\n",
    "def func(cb: Callable[[], str]) -> None:\n",
    "    f: Callback[...] = cb  # OK"
   ]
  },
  {
   "cell_type": "markdown",
   "metadata": {},
   "source": [
    "# Metaprogramming with Python\n",
    "\n",
    "# Have ChatGPT show specific GOF Patterns using paramspec and traits bounds"
   ]
  },
  {
   "cell_type": "markdown",
   "metadata": {},
   "source": [
    "# Python-course.eu\n",
    "- Chapters: 16-18\n",
    "\n",
    "# Ch. 16: Dynamically Creating Classes with Type\n",
    "- A user-defined class (or the class \"object\") is an instance of the class \"type\". So, we can see, that classes are created from type. In Python3 there is no difference between \"classes\" and \"types\". They are in most cases used as synonyms.\n",
    "- We can create classes, which inherit from the class \"type\". So, a metaclass is a subclass of the class \"type\".\n",
    "- Type can be called with three parameters\n",
    "    - $type(classname, superclasses, attributes\\_dict)$\n",
    "    - $type(str, tuple | list, dict)$\n",
    "    - Returns a new type object\n",
    "- When we call \"type\", the call method of type is called. The call method runs two other methods: new and init:\n",
    "    - type.\\__new__(typeclass, classname, superclasses, attributedict)\n",
    "    - type.\\__init__(cls, classname, superclasses, attributedict)\n"
   ]
  },
  {
   "cell_type": "code",
   "execution_count": 1,
   "metadata": {},
   "outputs": [
    {
     "name": "stdout",
     "output_type": "stream",
     "text": [
      "<class '__main__.A'>\n"
     ]
    }
   ],
   "source": [
    "A = type(\"A\", (), {})\n",
    "x = A()\n",
    "print(type(x))"
   ]
  },
  {
   "cell_type": "code",
   "execution_count": 2,
   "metadata": {},
   "outputs": [
    {
     "name": "stdout",
     "output_type": "stream",
     "text": [
      "Marvin\n",
      "Hi, I am Marvin\n",
      "Marvin\n",
      "Hi, I am Marvin\n",
      "{'name': 'Marvin'}\n",
      "{'name': 'Marvin'}\n"
     ]
    }
   ],
   "source": [
    "class Robot:\n",
    "\n",
    "    counter = 0\n",
    "\n",
    "    def __init__(self, name):\n",
    "        self.name = name\n",
    "\n",
    "    def sayHello(self):\n",
    "        return \"Hi, I am \" + self.name\n",
    "\n",
    "\n",
    "def Rob_init(self, name):\n",
    "    self.name = name\n",
    "\n",
    "Robot2 = type(\"Robot2\", \n",
    "              (), \n",
    "              {\"counter\":0, \n",
    "               \"__init__\": Rob_init,\n",
    "               \"sayHello\": lambda self: \"Hi, I am \" + self.name})\n",
    "\n",
    "x = Robot2(\"Marvin\")\n",
    "print(x.name)\n",
    "print(x.sayHello())\n",
    "\n",
    "y = Robot(\"Marvin\")\n",
    "print(y.name)\n",
    "print(y.sayHello())\n",
    "\n",
    "print(x.__dict__)\n",
    "print(y.__dict__)"
   ]
  },
  {
   "cell_type": "markdown",
   "metadata": {},
   "source": [
    "## Metaclasses\n",
    "- A metaclass is a class whose instances are classes: control the creation and structure of clases\n",
    "    - Often override \\__new__ and \\__init__\n",
    "\n",
    "### Fix/Modify all of the code below"
   ]
  },
  {
   "cell_type": "code",
   "execution_count": 3,
   "metadata": {},
   "outputs": [
    {
     "name": "stdout",
     "output_type": "stream",
     "text": [
      "Processing data...\n",
      "Transforming data...\n",
      "Processing output data...\n"
     ]
    }
   ],
   "source": [
    "import re\n",
    "\n",
    "# Custom Metaclass Definition\n",
    "class CamelCaseToUnderscoreMeta(type):\n",
    "    def __new__(cls, name, bases, dct):\n",
    "        # Create a separate dictionary for modified items\n",
    "        modified_items = {}\n",
    "\n",
    "        # Convert camel case method names to underscore notation\n",
    "        for key, value in dct.items():\n",
    "            if callable(value) and re.match(r'^[a-z]+(?:[A-Z][a-z]*)*$', key):\n",
    "                # Convert camel case to underscore notation\n",
    "                underscore_name = re.sub(r'([a-z0-9])([A-Z])', r'\\1_\\2', key).lower()\n",
    "                # Store the modified item in the new dictionary\n",
    "                modified_items[underscore_name] = value\n",
    "            else:\n",
    "                # Store unmodified items in the new dictionary\n",
    "                modified_items[key] = value\n",
    "\n",
    "        # Create the class using the modified attributes\n",
    "        return super().__new__(cls, name, bases, modified_items)\n",
    "\n",
    "# Class using the Custom Metaclass\n",
    "class CamelCaseClass(metaclass=CamelCaseToUnderscoreMeta):\n",
    "    def processData(self):\n",
    "        print(\"Processing data...\")\n",
    "\n",
    "    def transformData(self):\n",
    "        print(\"Transforming data...\")\n",
    "\n",
    "    def processOutputData(self):\n",
    "        print(\"Processing output data...\")\n",
    "\n",
    "# Creating an instance of CamelCaseClass\n",
    "camel_case_instance = CamelCaseClass()\n",
    "\n",
    "# Calling methods with modified underscore notation names\n",
    "camel_case_instance.process_data()\n",
    "camel_case_instance.transform_data()\n",
    "camel_case_instance.process_output_data()"
   ]
  },
  {
   "cell_type": "code",
   "execution_count": 4,
   "metadata": {},
   "outputs": [
    {
     "name": "stdout",
     "output_type": "stream",
     "text": [
      "0 0\n",
      "1 0\n",
      "2 1\n"
     ]
    }
   ],
   "source": [
    "class FuncCallCounter(type):\n",
    "    \"\"\" A Metaclass which decorates all the methods of the \n",
    "        subclass using call_counter as the decorator\n",
    "    \"\"\"\n",
    "    \n",
    "    @staticmethod\n",
    "    def call_counter(func):\n",
    "        \"\"\" Decorator for counting the number of function \n",
    "            or method calls to the function or method func\n",
    "        \"\"\"\n",
    "        def helper(*args, **kwargs):\n",
    "            helper.calls += 1\n",
    "            return func(*args, **kwargs)\n",
    "        helper.calls = 0\n",
    "        helper.__name__= func.__name__\n",
    "    \n",
    "        return helper\n",
    "    \n",
    "    \n",
    "    def __new__(cls, clsname, superclasses, attributedict):\n",
    "        \"\"\" Every method gets decorated with the decorator call_counter,\n",
    "            which will do the actual call counting\n",
    "        \"\"\"\n",
    "        for attr in attributedict:\n",
    "            if callable(attributedict[attr]) and not attr.startswith(\"__\"):\n",
    "                attributedict[attr] = cls.call_counter(attributedict[attr])\n",
    "        \n",
    "        return type.__new__(cls, clsname, superclasses, attributedict)\n",
    "    \n",
    "\n",
    "class A(metaclass=FuncCallCounter):\n",
    "    \n",
    "    def foo(self):\n",
    "        pass\n",
    "    \n",
    "    def bar(self):\n",
    "        pass\n",
    "\n",
    "if __name__ == \"__main__\":\n",
    "    x = A()\n",
    "    print(x.foo.calls, x.bar.calls)\n",
    "    x.foo()\n",
    "    print(x.foo.calls, x.bar.calls)\n",
    "    x.foo()\n",
    "    x.bar()\n",
    "    print(x.foo.calls, x.bar.calls)"
   ]
  },
  {
   "cell_type": "code",
   "execution_count": null,
   "metadata": {},
   "outputs": [],
   "source": [
    "from typing import Generic\n",
    "from threading import Lock\n",
    "\n",
    "class SynchronizedMethod[**P, T]:\n",
    "    \"\"\"Descriptor that applies a lock to instance methods.\"\"\"\n",
    "    _lock: ClassVar[Lock] = Lock()\n",
    "\n",
    "    def __init__(self, method: Callable[P, T]) -> None:\n",
    "        self.method = method\n",
    "\n",
    "    def __get__(self, instance: object, owner: type | None = None) -> Callable[P, T]:\n",
    "        if instance is None:\n",
    "            return self.method  # Allow access to original method from class\n",
    "\n",
    "        def wrapper(*args: P.args, **kwargs: P.kwargs) -> T:\n",
    "            with self._lock:\n",
    "                return self.method(instance, *args, **kwargs)\n",
    "        return wrapper\n",
    "\n",
    "class LockedCounter:\n",
    "    def __init__(self) -> None:\n",
    "        self._count = 0\n",
    "\n",
    "    @SynchronizedMethod\n",
    "    def increment(self) -> None:\n",
    "        self._count += 1\n",
    "\n",
    "    @SynchronizedMethod\n",
    "    def get_count(self) -> int:\n",
    "        return self._count\n"
   ]
  },
  {
   "cell_type": "code",
   "execution_count": null,
   "metadata": {},
   "outputs": [],
   "source": [
    "from typing import Any, Type, Callable, ParamSpec, TypeVar, ClassVar\n",
    "from threading import Lock\n",
    "\n",
    "class SynchronizedMeta[**P, T]:\n",
    "    \"\"\"Metaclass that applies locking to all instance methods.\"\"\"\n",
    "    _lock: ClassVar[Lock] = Lock()\n",
    "\n",
    "    def __new__(cls: Type[type], name: str, bases: tuple, dct: dict) -> Type[Any]:\n",
    "        for attr_name, attr_value in dct.items():\n",
    "            if callable(attr_value) and not attr_name.startswith(\"_\"):\n",
    "                dct[attr_name] = cls._wrap_with_lock(attr_value)\n",
    "        return super().__new__(cls, name, bases, dct)\n",
    "\n",
    "    @classmethod\n",
    "    def _wrap_with_lock(cls, method: Callable[P, T]) -> Callable[P, T]:\n",
    "        \"\"\"Wraps instance methods with a lock.\"\"\"\n",
    "        def wrapper(self: object, *args: P.args, **kwargs: P.kwargs) -> T:\n",
    "            with cls._lock:\n",
    "                return method(self, *args, **kwargs)\n",
    "        return wrapper\n",
    "\n",
    "class AutoLocked(metaclass=SynchronizedMeta):\n",
    "    \"\"\"All methods in this class are synchronized automatically.\"\"\"\n",
    "    def __init__(self) -> None:\n",
    "        self._value = 0\n",
    "\n",
    "    def increment(self) -> None:\n",
    "        self._value += 1\n",
    "\n",
    "    def get_value(self) -> int:\n",
    "        return self._value"
   ]
  }
 ],
 "metadata": {
  "kernelspec": {
   "display_name": "Python 3",
   "language": "python",
   "name": "python3"
  },
  "language_info": {
   "codemirror_mode": {
    "name": "ipython",
    "version": 3
   },
   "file_extension": ".py",
   "mimetype": "text/x-python",
   "name": "python",
   "nbconvert_exporter": "python",
   "pygments_lexer": "ipython3",
   "version": "3.13.2"
  }
 },
 "nbformat": 4,
 "nbformat_minor": 2
}
